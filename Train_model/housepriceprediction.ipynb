{
 "cells": [
  {
   "cell_type": "code",
   "execution_count": 6,
   "id": "f93dc32f",
   "metadata": {
    "_cell_guid": "b1076dfc-b9ad-4769-8c92-a6c4dae69d19",
    "_uuid": "8f2839f25d086af736a60e9eeb907d3b93b6e0e5",
    "execution": {
     "iopub.execute_input": "2024-01-04T03:58:47.337618Z",
     "iopub.status.busy": "2024-01-04T03:58:47.337236Z",
     "iopub.status.idle": "2024-01-04T03:58:48.080077Z",
     "shell.execute_reply": "2024-01-04T03:58:48.079141Z"
    },
    "papermill": {
     "duration": 0.752234,
     "end_time": "2024-01-04T03:58:48.082369",
     "exception": false,
     "start_time": "2024-01-04T03:58:47.330135",
     "status": "completed"
    },
    "tags": []
   },
   "outputs": [],
   "source": [
    "import pandas as pd\n",
    "import numpy as np\n",
    "import matplotlib.pyplot as plt\n",
    "import seaborn as sns\n",
    "from sklearn.model_selection import train_test_split\n",
    "from sklearn.ensemble import RandomForestRegressor\n",
    "from sklearn.metrics import mean_squared_error, r2_score\n"
   ]
  },
  {
   "cell_type": "code",
   "execution_count": 7,
   "id": "8ed39212",
   "metadata": {
    "execution": {
     "iopub.execute_input": "2024-01-04T03:58:48.094325Z",
     "iopub.status.busy": "2024-01-04T03:58:48.093912Z",
     "iopub.status.idle": "2024-01-04T03:58:48.171971Z",
     "shell.execute_reply": "2024-01-04T03:58:48.171157Z"
    },
    "papermill": {
     "duration": 0.086663,
     "end_time": "2024-01-04T03:58:48.174357",
     "exception": false,
     "start_time": "2024-01-04T03:58:48.087694",
     "status": "completed"
    },
    "tags": []
   },
   "outputs": [
    {
     "name": "stdout",
     "output_type": "stream",
     "text": [
      "   SquareFeet  Bedrooms  Bathrooms Neighborhood  YearBuilt          Price\n",
      "0        2126         4          1        Rural       1969  215355.283618\n",
      "1        2459         3          2        Rural       1980  195014.221626\n",
      "2        1860         2          1       Suburb       1970  306891.012076\n",
      "3        2294         2          1        Urban       1996  206786.787153\n",
      "4        2130         5          2       Suburb       2001  272436.239065\n",
      "<class 'pandas.core.frame.DataFrame'>\n",
      "RangeIndex: 50000 entries, 0 to 49999\n",
      "Data columns (total 6 columns):\n",
      " #   Column        Non-Null Count  Dtype  \n",
      "---  ------        --------------  -----  \n",
      " 0   SquareFeet    50000 non-null  int64  \n",
      " 1   Bedrooms      50000 non-null  int64  \n",
      " 2   Bathrooms     50000 non-null  int64  \n",
      " 3   Neighborhood  50000 non-null  object \n",
      " 4   YearBuilt     50000 non-null  int64  \n",
      " 5   Price         50000 non-null  float64\n",
      "dtypes: float64(1), int64(4), object(1)\n",
      "memory usage: 2.3+ MB\n",
      "None\n",
      "         SquareFeet      Bedrooms     Bathrooms     YearBuilt          Price\n",
      "count  50000.000000  50000.000000  50000.000000  50000.000000   50000.000000\n",
      "mean    2006.374680      3.498700      1.995420   1985.404420  224827.325151\n",
      "std      575.513241      1.116326      0.815851     20.719377   76141.842966\n",
      "min     1000.000000      2.000000      1.000000   1950.000000  -36588.165397\n",
      "25%     1513.000000      3.000000      1.000000   1967.000000  169955.860225\n",
      "50%     2007.000000      3.000000      2.000000   1985.000000  225052.141166\n",
      "75%     2506.000000      4.000000      3.000000   2003.000000  279373.630052\n",
      "max     2999.000000      5.000000      3.000000   2021.000000  492195.259972\n",
      "Danh sách các cột trong DataFrame: Index(['SquareFeet', 'Bedrooms', 'Bathrooms', 'Neighborhood', 'YearBuilt',\n",
      "       'Price'],\n",
      "      dtype='object')\n"
     ]
    }
   ],
   "source": [
    "# Đọc dữ liệu từ đường dẫn\n",
    "data = pd.read_csv('housing_price_dataset.csv')\n",
    "\n",
    "# Kiểm tra dữ liệu\n",
    "print(data.head())\n",
    "print(data.info())\n",
    "print(data.describe())\n",
    "\n",
    "# In ra danh sách các cột để kiểm tra\n",
    "print(\"Danh sách các cột trong DataFrame:\", data.columns)\n",
    "\n",
    "# Kiểm tra và loại bỏ cột không cần thiết (nếu có)\n",
    "if 'id' in data.columns:\n",
    "    data.drop(['id'], axis=1, inplace=True)\n"
   ]
  },
  {
   "cell_type": "code",
   "execution_count": 8,
   "id": "5c540497",
   "metadata": {
    "execution": {
     "iopub.execute_input": "2024-01-04T03:58:48.185937Z",
     "iopub.status.busy": "2024-01-04T03:58:48.185581Z",
     "iopub.status.idle": "2024-01-04T03:58:48.216904Z",
     "shell.execute_reply": "2024-01-04T03:58:48.215740Z"
    },
    "papermill": {
     "duration": 0.039692,
     "end_time": "2024-01-04T03:58:48.219217",
     "exception": false,
     "start_time": "2024-01-04T03:58:48.179525",
     "status": "completed"
    },
    "tags": []
   },
   "outputs": [],
   "source": [
    "\n",
    "\n",
    "# Điền giá trị thiếu cho các cột số\n",
    "numeric_cols = data.select_dtypes(include=[np.number]).columns\n",
    "data[numeric_cols] = data[numeric_cols].fillna(data[numeric_cols].mean())\n",
    "\n",
    "# Điền giá trị thiếu cho các cột không phải số (nếu cần)\n",
    "non_numeric_cols = data.select_dtypes(exclude=[np.number]).columns\n",
    "data[non_numeric_cols] = data[non_numeric_cols].fillna('unknown')\n",
    "\n",
    "# Chuyển đổi các biến phân loại thành biến số\n",
    "data = pd.get_dummies(data, drop_first=True)\n"
   ]
  },
  {
   "cell_type": "code",
   "execution_count": 9,
   "id": "ab3a4dcd",
   "metadata": {
    "execution": {
     "iopub.execute_input": "2024-01-04T03:58:48.231369Z",
     "iopub.status.busy": "2024-01-04T03:58:48.231073Z",
     "iopub.status.idle": "2024-01-04T03:58:48.241327Z",
     "shell.execute_reply": "2024-01-04T03:58:48.240441Z"
    },
    "papermill": {
     "duration": 0.018587,
     "end_time": "2024-01-04T03:58:48.243325",
     "exception": false,
     "start_time": "2024-01-04T03:58:48.224738",
     "status": "completed"
    },
    "tags": []
   },
   "outputs": [],
   "source": [
    "\n",
    "# Kiểm tra xem cột giá nhà có tồn tại hay không\n",
    "price_column = 'Price'  # Đặt tên cột là 'Price'\n",
    "if price_column in data.columns:\n",
    "    # Chia dữ liệu thành biến độc lập và biến phụ thuộc\n",
    "    X = data.drop(price_column, axis=1)\n",
    "    y = data[price_column]\n",
    "else:\n",
    "    print(f\"Cột '{price_column}' không tồn tại trong DataFrame.\")\n",
    "    print(\"Danh sách các cột hiện tại:\", data.columns)\n",
    "    raise KeyError(f\"Cột '{price_column}' không tìm thấy.\")\n"
   ]
  },
  {
   "cell_type": "code",
   "execution_count": 14,
   "id": "b4e6dcaa",
   "metadata": {
    "execution": {
     "iopub.execute_input": "2024-01-04T03:58:48.254685Z",
     "iopub.status.busy": "2024-01-04T03:58:48.254391Z",
     "iopub.status.idle": "2024-01-04T03:58:48.263210Z",
     "shell.execute_reply": "2024-01-04T03:58:48.262306Z"
    },
    "papermill": {
     "duration": 0.017394,
     "end_time": "2024-01-04T03:58:48.265757",
     "exception": false,
     "start_time": "2024-01-04T03:58:48.248363",
     "status": "completed"
    },
    "tags": []
   },
   "outputs": [
    {
     "ename": "SyntaxError",
     "evalue": "invalid syntax (1638613698.py, line 1)",
     "output_type": "error",
     "traceback": [
      "\u001b[1;36m  Cell \u001b[1;32mIn[14], line 1\u001b[1;36m\u001b[0m\n\u001b[1;33m    Chia dữ liệu thành tập huấn luyện và tập kiểm tra\u001b[0m\n\u001b[1;37m         ^\u001b[0m\n\u001b[1;31mSyntaxError\u001b[0m\u001b[1;31m:\u001b[0m invalid syntax\n"
     ]
    }
   ],
   "source": [
    " Chia dữ liệu thành tập huấn luyện và tập kiểm tra\n",
    "X_train, X_test, y_train, y_test = train_test_split(X, y, test_size=0.2, random_state=42)\n",
    "\n",
    "# Xây dựng mô hình hồi quy\n",
    "model = RandomForestRegressor(n_estimators=100, random_state=42)\n",
    "model.fit(X_train, y_train)\n"
   ]
  },
  {
   "cell_type": "code",
   "execution_count": null,
   "id": "e3163143",
   "metadata": {
    "execution": {
     "iopub.execute_input": "2024-01-04T03:58:48.278154Z",
     "iopub.status.busy": "2024-01-04T03:58:48.277866Z",
     "iopub.status.idle": "2024-01-04T03:58:49.167963Z",
     "shell.execute_reply": "2024-01-04T03:58:49.167083Z"
    },
    "papermill": {
     "duration": 0.898675,
     "end_time": "2024-01-04T03:58:49.170313",
     "exception": false,
     "start_time": "2024-01-04T03:58:48.271638",
     "status": "completed"
    },
    "tags": []
   },
   "outputs": [
    {
     "name": "stderr",
     "output_type": "stream",
     "text": [
      "/opt/conda/lib/python3.10/site-packages/scipy/__init__.py:146: UserWarning: A NumPy version >=1.16.5 and <1.23.0 is required for this version of SciPy (detected version 1.24.3\n",
      "  warnings.warn(f\"A NumPy version >={np_minversion} and <{np_maxversion}\"\n"
     ]
    }
   ],
   "source": [
    "\n",
    "# Dự đoán trên tập kiểm tra\n",
    "y_pred = model.predict(X_test)\n",
    "\n",
    "# Đánh giá mô hình\n",
    "mse = mean_squared_error(y_test, y_pred)\n",
    "r2 = r2_score(y_test, y_pred)\n",
    "\n",
    "# In các chỉ số thống kê mà không cần in ra kiểu dữ liệu\n",
    "print(\"Mean Squared Error:\", mse)\n",
    "print(\"R2 Score:\", r2)"
   ]
  },
  {
   "cell_type": "code",
   "execution_count": 13,
   "id": "6ce5b54a",
   "metadata": {
    "execution": {
     "iopub.execute_input": "2024-01-04T03:58:49.182439Z",
     "iopub.status.busy": "2024-01-04T03:58:49.182143Z",
     "iopub.status.idle": "2024-01-04T03:58:49.188664Z",
     "shell.execute_reply": "2024-01-04T03:58:49.187800Z"
    },
    "papermill": {
     "duration": 0.014962,
     "end_time": "2024-01-04T03:58:49.190652",
     "exception": false,
     "start_time": "2024-01-04T03:58:49.175690",
     "status": "completed"
    },
    "tags": []
   },
   "outputs": [
    {
     "ename": "NameError",
     "evalue": "name 'y_test' is not defined",
     "output_type": "error",
     "traceback": [
      "\u001b[1;31m---------------------------------------------------------------------------\u001b[0m",
      "\u001b[1;31mNameError\u001b[0m                                 Traceback (most recent call last)",
      "Cell \u001b[1;32mIn[13], line 3\u001b[0m\n\u001b[0;32m      1\u001b[0m \u001b[38;5;66;03m# Vẽ biểu đồ dự đoán so với giá thực tế\u001b[39;00m\n\u001b[0;32m      2\u001b[0m plt\u001b[38;5;241m.\u001b[39mfigure(figsize\u001b[38;5;241m=\u001b[39m(\u001b[38;5;241m10\u001b[39m, \u001b[38;5;241m6\u001b[39m))\n\u001b[1;32m----> 3\u001b[0m sns\u001b[38;5;241m.\u001b[39mscatterplot(x\u001b[38;5;241m=\u001b[39m\u001b[43my_test\u001b[49m, y\u001b[38;5;241m=\u001b[39my_pred)\n\u001b[0;32m      4\u001b[0m plt\u001b[38;5;241m.\u001b[39mxlabel(\u001b[38;5;124m'\u001b[39m\u001b[38;5;124mGiá thực tế\u001b[39m\u001b[38;5;124m'\u001b[39m)\n\u001b[0;32m      5\u001b[0m plt\u001b[38;5;241m.\u001b[39mylabel(\u001b[38;5;124m'\u001b[39m\u001b[38;5;124mGiá dự đoán\u001b[39m\u001b[38;5;124m'\u001b[39m)\n",
      "\u001b[1;31mNameError\u001b[0m: name 'y_test' is not defined"
     ]
    },
    {
     "data": {
      "text/plain": [
       "<Figure size 1000x600 with 0 Axes>"
      ]
     },
     "metadata": {},
     "output_type": "display_data"
    }
   ],
   "source": [
    "# Vẽ biểu đồ dự đoán so với giá thực tế\n",
    "plt.figure(figsize=(10, 6))\n",
    "sns.scatterplot(x=y_test, y=y_pred)\n",
    "plt.xlabel('Giá thực tế')\n",
    "plt.ylabel('Giá dự đoán')\n",
    "plt.title('Giá thực tế vs Giá dự đoán')\n",
    "plt.plot([min(y_test), max(y_test)], [min(y_test), max(y_test)], color='red', linestyle='--')\n",
    "plt.show()\n"
   ]
  }
 ],
 "metadata": {
  "kaggle": {
   "accelerator": "none",
   "dataSources": [
    {
     "datasetId": 4037188,
     "sourceId": 7020742,
     "sourceType": "datasetVersion"
    }
   ],
   "dockerImageVersionId": 30626,
   "isGpuEnabled": false,
   "isInternetEnabled": true,
   "language": "python",
   "sourceType": "notebook"
  },
  "kernelspec": {
   "display_name": "Python 3",
   "language": "python",
   "name": "python3"
  },
  "language_info": {
   "codemirror_mode": {
    "name": "ipython",
    "version": 3
   },
   "file_extension": ".py",
   "mimetype": "text/x-python",
   "name": "python",
   "nbconvert_exporter": "python",
   "pygments_lexer": "ipython3",
   "version": "3.12.2"
  },
  "papermill": {
   "default_parameters": {},
   "duration": 56.453511,
   "end_time": "2024-01-04T03:59:40.434652",
   "environment_variables": {},
   "exception": null,
   "input_path": "__notebook__.ipynb",
   "output_path": "__notebook__.ipynb",
   "parameters": {},
   "start_time": "2024-01-04T03:58:43.981141",
   "version": "2.4.0"
  }
 },
 "nbformat": 4,
 "nbformat_minor": 5
}
